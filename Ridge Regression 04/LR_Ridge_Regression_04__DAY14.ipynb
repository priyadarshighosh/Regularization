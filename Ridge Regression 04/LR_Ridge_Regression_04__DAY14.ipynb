{
  "nbformat": 4,
  "nbformat_minor": 0,
  "metadata": {
    "colab": {
      "private_outputs": true,
      "provenance": []
    },
    "kernelspec": {
      "name": "python3",
      "display_name": "Python 3"
    },
    "language_info": {
      "name": "python"
    }
  },
  "cells": [
    {
      "cell_type": "markdown",
      "source": [
        "#  Ridge Recession 04  \n",
        "---"
      ],
      "metadata": {
        "id": "0pX85Ui31zXf"
      }
    },
    {
      "cell_type": "markdown",
      "source": [
        "IMPORTING DATA SCIENCE LIBRARIES"
      ],
      "metadata": {
        "id": "I2xjrloHcxJQ"
      }
    },
    {
      "cell_type": "code",
      "execution_count": null,
      "metadata": {
        "id": "JF9RMWnFZYq3"
      },
      "outputs": [],
      "source": [
        "import numpy as np\n",
        "import pandas as pd\n",
        "import matplotlib.pyplot as plt\n",
        "import seaborn as sns\n"
      ]
    },
    {
      "cell_type": "markdown",
      "source": [
        "IMPORT MACHINE LEARNING LIBRARIES AND CLASSES"
      ],
      "metadata": {
        "id": "-FDeOVL3M7rU"
      }
    },
    {
      "cell_type": "code",
      "source": [
        "from sklearn.model_selection import train_test_split               #for splitting the data into test and training data\n",
        "from sklearn.compose import ColumnTransformer                       #for transforming the columns\n",
        "from sklearn.impute import SimpleImputer                             #for imputing the missing values\n",
        "from sklearn.preprocessing import OneHotEncoder                      #one hot encoding\n",
        "from sklearn.preprocessing import MinMaxScaler                        #standard scaling\n",
        "\n",
        "from sklearn.datasets import load_diabetes\n",
        "\n",
        "from sklearn.datasets import make_regression\n",
        "\n",
        "import plotly.express as px\n",
        "import plotly.graph_objects as go\n",
        "\n",
        "\n",
        "from sklearn.model_selection import train_test_split\n",
        "from sklearn.metrics import accuracy_score                 # for accuracy score\n",
        "from sklearn.model_selection import cross_val_score        # for cross validation score\n",
        "\n",
        "from sklearn.linear_model import LinearRegression           # Import the LinearRegression class\n",
        "from sklearn.metrics import mean_squared_error, r2_score    # to find out the error functions\n",
        "from sklearn.preprocessing import PolynomialFeatures , StandardScaler   # for the polunomial features\n",
        "\n",
        "from sklearn.pipeline import Pipeline\n",
        "from sklearn.linear_model import Ridge   # ridge Regression"
      ],
      "metadata": {
        "id": "Y208GDIXgEai"
      },
      "execution_count": null,
      "outputs": []
    },
    {
      "cell_type": "markdown",
      "source": [
        "# Loading and Information about the Dataset"
      ],
      "metadata": {
        "id": "XTPRT3iy9EuI"
      }
    },
    {
      "cell_type": "code",
      "source": [
        "from sklearn.datasets import load_diabetes\n",
        "diabetes = load_diabetes()\n",
        "\n",
        "X , y = diabetes.data , diabetes.target"
      ],
      "metadata": {
        "id": "PAXRZRNaJVKO"
      },
      "execution_count": null,
      "outputs": []
    },
    {
      "cell_type": "markdown",
      "source": [
        "#  Train and test split"
      ],
      "metadata": {
        "id": "DReLCuu6HhrU"
      }
    },
    {
      "cell_type": "code",
      "source": [
        "X_train , X_test , y_train , y_test = train_test_split(X , y , test_size = 0.2 , random_state = 4)"
      ],
      "metadata": {
        "id": "fP3lgmCwHk0e"
      },
      "execution_count": null,
      "outputs": []
    },
    {
      "cell_type": "markdown",
      "source": [
        "# 1. How are Co-efficients affected ?"
      ],
      "metadata": {
        "id": "VM1SVc1Z2PsT"
      }
    },
    {
      "cell_type": "code",
      "source": [
        "coefs = []\n",
        "r2_score = []\n",
        "\n",
        "for i in [0 , 10 , 100 , 1000]:\n",
        "  reg=Ridge(alpha = i)\n",
        "  reg.fit(X_train , y_train)\n",
        "  coefs.append(reg.coef_)\n",
        "  r2_score.append(reg.score(X_test , y_test))"
      ],
      "metadata": {
        "id": "qx8075vu2hJM"
      },
      "execution_count": null,
      "outputs": []
    },
    {
      "cell_type": "code",
      "source": [
        "plt.figure(figsize = ( 14, 9))\n",
        "plt.plot(221)\n",
        "plt.bar(diabetes.feature_names,coefs[0])\n",
        "plt.title('Alpha = 0 , r2_score = {}'.format(round(r2_score[0],2)))\n",
        "\n",
        "plt.subplot(222)\n",
        "plt.bar(diabetes.feature_names,coefs[1])\n",
        "plt.title('Alpha = 10 , r2_score = {}'.format(round(r2_score[1],2)))\n",
        "\n",
        "plt.subplot(223)\n",
        "plt.bar(diabetes.feature_names ,coefs[2])\n",
        "plt.title('Alpha = 100 , r2_score = {}'.format(round(r2_score[2],2)))\n",
        "\n",
        "plt.subplot(224)\n",
        "plt.bar(diabetes.feature_names ,coefs[3])\n",
        "plt.title('Alpha = 1000 , r2_score = {}'.format(round(r2_score[3],2)))\n"
      ],
      "metadata": {
        "id": "bze50mva3yJz"
      },
      "execution_count": null,
      "outputs": []
    },
    {
      "cell_type": "markdown",
      "source": [
        "# 2. Higher Co-efficients are Affected more"
      ],
      "metadata": {
        "id": "Mr7z3Ml47akA"
      }
    },
    {
      "cell_type": "code",
      "source": [
        "alpha = [ 0 , 0.001 , 0.01 , 0.1 , 1 , 10 , 100 , 1000]\n",
        "coefs = []\n",
        "\n",
        "for i in alpha:\n",
        "  reg=Ridge(alpha = i)\n",
        "  reg.fit(X_train , y_train)\n",
        "\n",
        "  coefs.append(reg.coef_.tolist())"
      ],
      "metadata": {
        "id": "wFBmCs_D70J9"
      },
      "execution_count": null,
      "outputs": []
    },
    {
      "cell_type": "code",
      "source": [
        "input_array = np.array(coefs).T"
      ],
      "metadata": {
        "id": "rQn5gEfK8kMS"
      },
      "execution_count": null,
      "outputs": []
    },
    {
      "cell_type": "code",
      "source": [
        "plt.figure(figsize=(8,5))\n",
        "plt.plot (alpha , np.zeros(len(alpha)) , color='black' , linewidth = 5)\n",
        "\n",
        "for i in range(input_array.shape[0]):\n",
        "\n",
        "  plt.plot(alpha , input_array[i] , label = diabetes.feature_names[i])\n",
        "\n",
        "plt.legend()"
      ],
      "metadata": {
        "id": "GW5W0J_68zJC"
      },
      "execution_count": null,
      "outputs": []
    },
    {
      "cell_type": "markdown",
      "source": [
        "#  3. Impact on Bias and Variance"
      ],
      "metadata": {
        "id": "AnVI0LjWBwz9"
      }
    },
    {
      "cell_type": "code",
      "source": [
        "m = 100\n",
        "X = 5 * np.random.rand(m, 1) - 2\n",
        "y = 0.7 * X ** 2 - 2 * X + 3 + np.random.randn(m, 1)\n",
        "\n",
        "plt.scatter(X, y)\n",
        "plt.show()"
      ],
      "metadata": {
        "id": "LH5Fm2zjY9Ss"
      },
      "execution_count": null,
      "outputs": []
    },
    {
      "cell_type": "code",
      "source": [
        "X_train,X_test,y_train,y_test = train_test_split(X.reshape(100,1),y.reshape(100),test_size=0.2,random_state=2)"
      ],
      "metadata": {
        "id": "9EPHaws5Y9Oe"
      },
      "execution_count": null,
      "outputs": []
    },
    {
      "cell_type": "code",
      "source": [
        "from sklearn.preprocessing import PolynomialFeatures\n",
        "poly = PolynomialFeatures(degree=15)\n",
        "\n",
        "X_train = poly.fit_transform(X_train)\n",
        "X_test = poly.transform(X_test)"
      ],
      "metadata": {
        "id": "hmu_f9ZrZJLt"
      },
      "execution_count": null,
      "outputs": []
    },
    {
      "cell_type": "code",
      "source": [
        "from mlxtend.evaluate import bias_variance_decomp\n",
        "\n",
        "alphas = np.linspace(0,30,100)\n",
        "\n",
        "loss = []\n",
        "bias = []\n",
        "variance = []\n",
        "\n",
        "for i in alphas:\n",
        "    reg = Ridge(alpha=i)\n",
        "    avg_expected_loss, avg_bias, avg_var = bias_variance_decomp(\n",
        "        reg, X_train, y_train, X_test, y_test,\n",
        "        loss='mse',\n",
        "        random_seed=123)\n",
        "    loss.append(avg_expected_loss)\n",
        "    bias.append(avg_bias)\n",
        "    variance.append(avg_var)\n"
      ],
      "metadata": {
        "id": "MCWgPcgHZLNd"
      },
      "execution_count": null,
      "outputs": []
    },
    {
      "cell_type": "code",
      "source": [
        "plt.plot(alphas,loss,label='loss')\n",
        "plt.plot(alphas,bias,label='Bias')\n",
        "plt.plot(alphas,variance,label='Variance')\n",
        "plt.ylim(0,5)\n",
        "plt.xlabel('Alpha')\n",
        "plt.legend()"
      ],
      "metadata": {
        "id": "gDP0mnEkZQAZ"
      },
      "execution_count": null,
      "outputs": []
    },
    {
      "cell_type": "markdown",
      "source": [
        "# 4.Effect of Regularization on Loss Function"
      ],
      "metadata": {
        "id": "mMEcFGfHZUN_"
      }
    },
    {
      "cell_type": "code",
      "source": [
        "from sklearn.datasets import make_regression\n",
        "\n",
        "X,y = make_regression(n_samples=100, n_features=1, n_informative=1, n_targets=1,noise=20,random_state=13)\n",
        "\n",
        "plt.scatter(X,y)\n",
        "\n",
        "from sklearn.linear_model import LinearRegression\n",
        "\n",
        "reg = LinearRegression()\n",
        "reg.fit(X,y)\n",
        "print(reg.coef_)\n",
        "print(reg.intercept_)"
      ],
      "metadata": {
        "id": "I6c0S-3HZ-Yr"
      },
      "execution_count": null,
      "outputs": []
    },
    {
      "cell_type": "code",
      "source": [
        "def cal_loss(m,alpha):\n",
        "    return np.sum((y - m*X.ravel() + 2.29)**2) + alpha*m*m"
      ],
      "metadata": {
        "id": "nQCKnB6saCFS"
      },
      "execution_count": null,
      "outputs": []
    },
    {
      "cell_type": "code",
      "source": [
        "def predict(m):\n",
        "    return m*X - 2.29"
      ],
      "metadata": {
        "id": "ghP4VEW6aCY4"
      },
      "execution_count": null,
      "outputs": []
    },
    {
      "cell_type": "code",
      "source": [
        "m = np.linspace(-45,100,100)\n",
        "plt.figure(figsize=(4,6))\n",
        "for j in [0,10,20,30,40,50,100]:\n",
        "    loss = []\n",
        "    for i in range(m.shape[0]):\n",
        "        loss_i = cal_loss(m[i],j)\n",
        "        loss.append(loss_i)\n",
        "    plt.plot(m,loss,label='alpha = {}'.format(j))\n",
        "plt.legend()\n",
        "plt.xlabel('Alpha')\n",
        "plt.ylabel('Loss')\n",
        "plt.show()"
      ],
      "metadata": {
        "id": "Tabtfk2kaCwA"
      },
      "execution_count": null,
      "outputs": []
    }
  ]
}
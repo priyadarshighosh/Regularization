{
  "nbformat": 4,
  "nbformat_minor": 0,
  "metadata": {
    "colab": {
      "private_outputs": true,
      "provenance": []
    },
    "kernelspec": {
      "name": "python3",
      "display_name": "Python 3"
    },
    "language_info": {
      "name": "python"
    }
  },
  "cells": [
    {
      "cell_type": "markdown",
      "source": [
        "# Lasso Regression  ( L1 Regularization )\n",
        "\n",
        "---\n"
      ],
      "metadata": {
        "id": "u93QB4H8gs0F"
      }
    },
    {
      "cell_type": "markdown",
      "source": [
        "IMPORTING DATA SCIENCE LIBRARIES"
      ],
      "metadata": {
        "id": "I2xjrloHcxJQ"
      }
    },
    {
      "cell_type": "code",
      "execution_count": null,
      "metadata": {
        "id": "JF9RMWnFZYq3"
      },
      "outputs": [],
      "source": [
        "import numpy as np\n",
        "import pandas as pd\n",
        "import matplotlib.pyplot as plt\n",
        "import seaborn as sns\n"
      ]
    },
    {
      "cell_type": "markdown",
      "source": [
        "IMPORT MACHINE LEARNING LIBRARIES AND CLASSES"
      ],
      "metadata": {
        "id": "-FDeOVL3M7rU"
      }
    },
    {
      "cell_type": "code",
      "source": [
        "from sklearn.model_selection import train_test_split               #for splitting the data into test and training data\n",
        "from sklearn.compose import ColumnTransformer                       #for transforming the columns\n",
        "from sklearn.impute import SimpleImputer                             #for imputing the missing values\n",
        "from sklearn.preprocessing import OneHotEncoder                      #one hot encoding\n",
        "from sklearn.preprocessing import MinMaxScaler                        #standard scaling\n",
        "\n",
        "from sklearn.datasets import load_diabetes\n",
        "\n",
        "from sklearn.datasets import make_regression\n",
        "\n",
        "import plotly.express as px\n",
        "import plotly.graph_objects as go\n",
        "\n",
        "\n",
        "from sklearn.model_selection import train_test_split\n",
        "from sklearn.metrics import accuracy_score                 # for accuracy score\n",
        "from sklearn.model_selection import cross_val_score        # for cross validation score\n",
        "\n",
        "from sklearn.linear_model import LinearRegression           # Import the LinearRegression class\n",
        "from sklearn.metrics import mean_squared_error, r2_score    # to find out the error functions\n",
        "from sklearn.preprocessing import PolynomialFeatures , StandardScaler   # for the polunomial features\n",
        "\n",
        "from sklearn.pipeline import Pipeline\n",
        "from sklearn.linear_model import Ridge   # ridge Regression\n",
        "from sklearn.linear_model import Lasso   # lasso Regression"
      ],
      "metadata": {
        "id": "Y208GDIXgEai"
      },
      "execution_count": null,
      "outputs": []
    },
    {
      "cell_type": "markdown",
      "source": [
        "# Loading and Information about the Dataset"
      ],
      "metadata": {
        "id": "XTPRT3iy9EuI"
      }
    },
    {
      "cell_type": "code",
      "source": [
        "X , y = make_regression(n_samples=100 , n_features=1 , n_informative=1 , n_targets=1 , noise=50 , random_state=13)\n",
        "\n",
        "X_train , X_test , y_train , y_test = train_test_split(X , y , test_size = 0.2 )\n",
        "\n",
        "plt.scatter(X , y )\n",
        "\n",
        "\n",
        "reg = LinearRegression()\n",
        "reg.fit(X_train , y_train)\n",
        "print(reg.coef_)\n",
        "print(reg.intercept_)\n"
      ],
      "metadata": {
        "id": "HQaxVWwZ8-xp"
      },
      "execution_count": null,
      "outputs": []
    },
    {
      "cell_type": "code",
      "source": [
        "alphas = [0 , 1 , 5, 10 , 30]\n",
        "\n",
        "plt.figure(figsize = (12,6))\n",
        "plt.scatter(X,y)\n",
        "\n",
        "for i in alphas:\n",
        "  reg = Ridge(alpha=i)\n",
        "  reg.fit(X_train , y_train)\n",
        "  plt.plot (X_test , reg.predict(X_test) , label = f'alpha={i}' , )\n",
        "\n",
        "plt.legend()\n",
        "plt.show()"
      ],
      "metadata": {
        "id": "khdLY4Zp9-YG"
      },
      "execution_count": null,
      "outputs": []
    },
    {
      "cell_type": "markdown",
      "source": [
        "# Polyomial Regression with the L1 Regression"
      ],
      "metadata": {
        "id": "hgv0Vs49C0C9"
      }
    },
    {
      "cell_type": "code",
      "source": [
        "m = 100\n",
        "x1 = 6 * np.random.rand(m, 1) - 3\n",
        "x2 = 0.5 * x1**2 - 2*x1 + 2 + np.random.randn(m, 1)\n",
        "\n",
        "plt.scatter(x1 , x2)\n",
        "plt.show"
      ],
      "metadata": {
        "id": "D3sDKsOPC7Mp"
      },
      "execution_count": null,
      "outputs": []
    },
    {
      "cell_type": "code",
      "source": [
        "from sklearn.pipeline import Pipeline\n",
        "from sklearn.linear_model import Lasso\n",
        "from sklearn.preprocessing import PolynomialFeatures\n",
        "\n",
        "def gets_preds_lasso ( x1 ,x2 ,alpha):\n",
        "  model = Pipeline([\n",
        "      ('poly_feats' ,PolynomialFeatures(degree=16)),\n",
        "      ('lasso' , Lasso(alpha=alpha))\n",
        "  ])\n",
        "\n",
        "  model.fit(x1 , x2)\n",
        "  y_pred = model.predict(x1)\n",
        "  return y_pred\n",
        "\n",
        "alphas = [0, 0.1 , 1 ]\n",
        "cs = ['red' , 'blue' , 'green']\n",
        "\n",
        "plt.figure(figsize = (12,6))\n",
        "plt.plot(x1,x2 ,'b+' , label='Datapoints')\n",
        "\n",
        "for alpha , c  in zip (alphas , cs ):\n",
        "    preds = gets_preds_lasso(x1 , x2 ,alpha)\n",
        "\n",
        "    #plot\n",
        "    plt.plot(sorted(x1[:,0]),preds[np.argsort(x1[:,0])], c, label=f'alpha={alpha}')\n",
        "\n",
        "plt.legend()\n",
        "plt.show()\n",
        "\n",
        "\n",
        "\n"
      ],
      "metadata": {
        "id": "s2h1BPJFDdEN"
      },
      "execution_count": null,
      "outputs": []
    },
    {
      "cell_type": "markdown",
      "source": [
        "In the above graph we can see blue line represent Green line represents Biggest value of alpha that means the most regularization has occured here -- Underfitting\n",
        "\n",
        "Red is kind off the middle ground with value of Alpha as 0.1\n",
        "\n",
        "Alpha is equal to 0 , shown by the Redline  - It signifies simple linear Regression . It overfitting a bit"
      ],
      "metadata": {
        "id": "wRNsuAHaOivp"
      }
    }
  ]
}
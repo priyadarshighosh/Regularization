{
  "nbformat": 4,
  "nbformat_minor": 0,
  "metadata": {
    "colab": {
      "private_outputs": true,
      "provenance": []
    },
    "kernelspec": {
      "name": "python3",
      "display_name": "Python 3"
    },
    "language_info": {
      "name": "python"
    }
  },
  "cells": [
    {
      "cell_type": "markdown",
      "source": [
        "# Elastic NET Regression  ( Combination of L1 and L2 )\n",
        "---\n"
      ],
      "metadata": {
        "id": "u93QB4H8gs0F"
      }
    },
    {
      "cell_type": "markdown",
      "source": [
        "IMPORTING DATA SCIENCE LIBRARIES"
      ],
      "metadata": {
        "id": "I2xjrloHcxJQ"
      }
    },
    {
      "cell_type": "code",
      "execution_count": null,
      "metadata": {
        "id": "JF9RMWnFZYq3"
      },
      "outputs": [],
      "source": [
        "import numpy as np\n",
        "import pandas as pd\n",
        "import matplotlib.pyplot as plt\n",
        "import seaborn as sns\n"
      ]
    },
    {
      "cell_type": "markdown",
      "source": [
        "IMPORT MACHINE LEARNING LIBRARIES AND CLASSES"
      ],
      "metadata": {
        "id": "-FDeOVL3M7rU"
      }
    },
    {
      "cell_type": "code",
      "source": [
        "from sklearn.model_selection import train_test_split               #for splitting the data into test and training data\n",
        "from sklearn.compose import ColumnTransformer                       #for transforming the columns\n",
        "from sklearn.impute import SimpleImputer                             #for imputing the missing values\n",
        "from sklearn.preprocessing import OneHotEncoder                      #one hot encoding\n",
        "from sklearn.preprocessing import MinMaxScaler                        #standard scaling\n",
        "\n",
        "from sklearn.datasets import load_diabetes\n",
        "\n",
        "from sklearn.datasets import make_regression\n",
        "\n",
        "import plotly.express as px\n",
        "import plotly.graph_objects as go\n",
        "\n",
        "\n",
        "from sklearn.model_selection import train_test_split\n",
        "from sklearn.metrics import accuracy_score                 # for accuracy score\n",
        "from sklearn.model_selection import cross_val_score        # for cross validation score\n",
        "\n",
        "from sklearn.linear_model import LinearRegression           # Import the LinearRegression class\n",
        "from sklearn.metrics import mean_squared_error, r2_score    # to find out the error functions\n",
        "from sklearn.preprocessing import PolynomialFeatures , StandardScaler   # for the polunomial features\n",
        "\n",
        "from sklearn.pipeline import Pipeline\n",
        "from sklearn.linear_model import Ridge   # ridge Regression\n",
        "from sklearn.linear_model import Lasso   # lasso Regression\n",
        "from sklearn.linear_model import ElasticNet   # elasticNet Regression\n",
        "from mlxtend.plotting import plot_linear_regression    # MLX bs\n",
        "from sklearn.linear_model import SGDRegressor"
      ],
      "metadata": {
        "id": "IVy_6tYPLJMV"
      },
      "execution_count": null,
      "outputs": []
    },
    {
      "cell_type": "code",
      "source": [
        "!pip install mlx"
      ],
      "metadata": {
        "id": "7EdpU_ELM64n"
      },
      "execution_count": null,
      "outputs": []
    },
    {
      "cell_type": "markdown",
      "source": [
        "# 1. How are coefficients affected ?\n"
      ],
      "metadata": {
        "id": "XTPRT3iy9EuI"
      }
    },
    {
      "cell_type": "code",
      "source": [
        "data = load_diabetes()\n",
        "df = pd.DataFrame(data.data , columns=data.feature_names)\n",
        "df['target'] = data.target\n",
        "df.head()"
      ],
      "metadata": {
        "id": "SLd4pZ_8YzEX"
      },
      "execution_count": null,
      "outputs": []
    },
    {
      "cell_type": "code",
      "source": [
        "X_train , X_test , y_train , y_test = train_test_split(df.drop('target' , axis=1) , df['target'] , test_size=0.2 , random_state=2)"
      ],
      "metadata": {
        "id": "bpRbTs5tY6PQ"
      },
      "execution_count": null,
      "outputs": []
    },
    {
      "cell_type": "markdown",
      "source": [
        "# Comparision of Different Regression"
      ],
      "metadata": {
        "id": "gz10CUBrj3eR"
      }
    },
    {
      "cell_type": "markdown",
      "source": [
        "Performing Linear Regression"
      ],
      "metadata": {
        "id": "Xo7rRiXtjlYE"
      }
    },
    {
      "cell_type": "code",
      "source": [
        "# linear Regression\n",
        "reg = LinearRegression()            # No lambda Value\n",
        "reg.fit(X_train , y_train)\n",
        "y_pred = reg.predict(X_test)\n",
        "print('R2 Score : ' , r2_score(y_test , y_pred))"
      ],
      "metadata": {
        "id": "1jnKDpWljobz"
      },
      "execution_count": null,
      "outputs": []
    },
    {
      "cell_type": "markdown",
      "source": [
        "Performing Ridge Regression"
      ],
      "metadata": {
        "id": "1-GhfFbVj1m6"
      }
    },
    {
      "cell_type": "code",
      "source": [
        "# Ridge Regression\n",
        "reg = Ridge(alpha = 0.1)           # lambda  = 0.1\n",
        "reg.fit(X_train , y_train)\n",
        "y_pred = reg.predict(X_test)\n",
        "print('R2 Score : ' , r2_score(y_test , y_pred))"
      ],
      "metadata": {
        "id": "jOQ7bXnukDhV"
      },
      "execution_count": null,
      "outputs": []
    },
    {
      "cell_type": "markdown",
      "source": [
        "Performing Lasso Regression"
      ],
      "metadata": {
        "id": "G2gsO7sUkJ3p"
      }
    },
    {
      "cell_type": "code",
      "source": [
        "# Lasso Regression\n",
        "reg = Lasso(alpha = 0.01)         # lambda = 0.01\n",
        "reg.fit(X_train , y_train)\n",
        "y_pred = reg.predict(X_test)\n",
        "print('R2 Score : ' , r2_score(y_test , y_pred))"
      ],
      "metadata": {
        "id": "XztFr-i0kOEX"
      },
      "execution_count": null,
      "outputs": []
    },
    {
      "cell_type": "markdown",
      "source": [
        "Performing Elastic Net Regression"
      ],
      "metadata": {
        "id": "22tLLdz4kipo"
      }
    },
    {
      "cell_type": "code",
      "source": [
        "# Elastic Net Regression\n",
        "reg = ElasticNet(alpha = 0.005 , l1_ratio = 0.9 )\n",
        "reg.fit(X_train , y_train)\n",
        "y_pred = reg.predict(X_test)\n",
        "print('R2 Score : ' , r2_score(y_test , y_pred))"
      ],
      "metadata": {
        "id": "KG3bTeBwkfFq"
      },
      "execution_count": null,
      "outputs": []
    },
    {
      "cell_type": "markdown",
      "source": [
        "This means 90 perc of the regularization will happen in Ridge and other 10 perc will happen in lasso\n",
        "and the Total amount of REgularization is 0.005"
      ],
      "metadata": {
        "id": "35EBrDaYlL-y"
      }
    },
    {
      "cell_type": "markdown",
      "source": [
        "We can do the Opposite of this 10 perc Ridge and 90 perc Lasso"
      ],
      "metadata": {
        "id": "QxGStLjGlZo1"
      }
    },
    {
      "cell_type": "code",
      "source": [
        "# Elastic Net Regression\n",
        "reg = ElasticNet(alpha = 0.005 , l1_ratio = 0.1)\n",
        "reg.fit(X_train , y_train)\n",
        "y_pred = reg.predict(X_test)\n",
        "print('R2 Score : ' , r2_score(y_test , y_pred))"
      ],
      "metadata": {
        "id": "nNiJ10ILliao"
      },
      "execution_count": null,
      "outputs": []
    },
    {
      "cell_type": "markdown",
      "source": [
        "Reult got Worse , lets see if we can do 50-50"
      ],
      "metadata": {
        "id": "k18m72JhlmVX"
      }
    },
    {
      "cell_type": "code",
      "source": [
        "# Elastic Net Regression\n",
        "reg = ElasticNet(alpha = 0.005 , l1_ratio = 0.5 )\n",
        "reg.fit(X_train , y_train)\n",
        "y_pred = reg.predict(X_test)\n",
        "print('R2 Score : ' , r2_score(y_test , y_pred))"
      ],
      "metadata": {
        "id": "iH1jTniblryA"
      },
      "execution_count": null,
      "outputs": []
    },
    {
      "cell_type": "markdown",
      "source": [
        "Still not good enough"
      ],
      "metadata": {
        "id": "eeRwwCYBlve8"
      }
    },
    {
      "cell_type": "code",
      "source": [
        "# Elastic Net Regression\n",
        "reg = ElasticNet(alpha = 0.0084 , l1_ratio = 0.95 )\n",
        "reg.fit(X_train , y_train)\n",
        "y_pred = reg.predict(X_test)\n",
        "print('R2 Score : ' , r2_score(y_test , y_pred))"
      ],
      "metadata": {
        "id": "agWcQgzLvdNQ"
      },
      "execution_count": null,
      "outputs": []
    }
  ]
}
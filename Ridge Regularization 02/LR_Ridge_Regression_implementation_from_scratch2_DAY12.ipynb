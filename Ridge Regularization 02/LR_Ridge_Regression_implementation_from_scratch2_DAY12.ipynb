{
  "nbformat": 4,
  "nbformat_minor": 0,
  "metadata": {
    "colab": {
      "private_outputs": true,
      "provenance": []
    },
    "kernelspec": {
      "name": "python3",
      "display_name": "Python 3"
    },
    "language_info": {
      "name": "python"
    }
  },
  "cells": [
    {
      "cell_type": "markdown",
      "source": [
        "# Ridge Regression - Implementation from Scratch\n",
        "\n",
        "---\n"
      ],
      "metadata": {
        "id": "u93QB4H8gs0F"
      }
    },
    {
      "cell_type": "markdown",
      "source": [
        "IMPORTING DATA SCIENCE LIBRARIES"
      ],
      "metadata": {
        "id": "I2xjrloHcxJQ"
      }
    },
    {
      "cell_type": "code",
      "execution_count": null,
      "metadata": {
        "id": "JF9RMWnFZYq3"
      },
      "outputs": [],
      "source": [
        "import numpy as np\n",
        "import pandas as pd\n",
        "import matplotlib.pyplot as plt\n",
        "import seaborn as sns\n"
      ]
    },
    {
      "cell_type": "markdown",
      "source": [
        "IMPORT MACHINE LEARNING LIBRARIES AND CLASSES"
      ],
      "metadata": {
        "id": "-FDeOVL3M7rU"
      }
    },
    {
      "cell_type": "code",
      "source": [
        "from sklearn.model_selection import train_test_split               #for splitting the data into test and training data\n",
        "from sklearn.compose import ColumnTransformer                       #for transforming the columns\n",
        "from sklearn.impute import SimpleImputer                             #for imputing the missing values\n",
        "from sklearn.preprocessing import OneHotEncoder                      #one hot encoding\n",
        "from sklearn.preprocessing import MinMaxScaler                        #standard scaling\n",
        "\n",
        "from sklearn.datasets import load_diabetes\n",
        "\n",
        "from sklearn.datasets import make_regression\n",
        "\n",
        "import plotly.express as px\n",
        "import plotly.graph_objects as go\n",
        "\n",
        "\n",
        "from sklearn.model_selection import train_test_split\n",
        "from sklearn.metrics import accuracy_score                 # for accuracy score\n",
        "from sklearn.model_selection import cross_val_score        # for cross validation score\n",
        "\n",
        "from sklearn.linear_model import LinearRegression # Import the LinearRegression class\n",
        "from sklearn.metrics import mean_squared_error, r2_score    # to find out the error functions\n",
        "from sklearn.preprocessing import PolynomialFeatures , StandardScaler   # for the polunomial features\n",
        "\n",
        "from sklearn.pipeline import Pipeline\n",
        "from sklearn.linear_model import Ridge   # ridge Regression"
      ],
      "metadata": {
        "id": "Y208GDIXgEai"
      },
      "execution_count": null,
      "outputs": []
    },
    {
      "cell_type": "markdown",
      "source": [
        "# Loading and Information about the Dataset ( Our Made Dataset )"
      ],
      "metadata": {
        "id": "XTPRT3iy9EuI"
      }
    },
    {
      "cell_type": "code",
      "source": [
        "X , y = make_regression (n_samples=100 , n_features=1 , n_informative = 1 , n_targets= 1 , noise =20 , random_state=13 )"
      ],
      "metadata": {
        "id": "PAXRZRNaJVKO"
      },
      "execution_count": null,
      "outputs": []
    },
    {
      "cell_type": "markdown",
      "source": [
        "Plotting the dataset"
      ],
      "metadata": {
        "id": "wdUUkCpV2IFI"
      }
    },
    {
      "cell_type": "code",
      "source": [
        "plt.scatter(X , y)\n",
        "plt.show()"
      ],
      "metadata": {
        "id": "ugvhR-FU2LIs"
      },
      "execution_count": null,
      "outputs": []
    },
    {
      "cell_type": "markdown",
      "source": [
        "# Implementation of Ridge Regression"
      ],
      "metadata": {
        "id": "34J59wFo5nJc"
      }
    },
    {
      "cell_type": "code",
      "source": [
        "class RidgeRegression:\n",
        "\n",
        "  def __init__(self , alpha ):\n",
        "    self.alpha = alpha\n",
        "    self.weights = None\n",
        "    self.bias = None\n",
        "\n",
        "  def fit(self , X_train , y_train):\n",
        "\n",
        "    num=0\n",
        "    den=0\n",
        "\n",
        "    for i in range(X_train.shape[0]):\n",
        "      num=num + (y_train[i] - np.mean(y_train))*(X_train[i] - np.mean(X_train))\n",
        "      den=den + (X_train[i] - np.mean(X_train))**2\n",
        "\n",
        "    self.m = num/( den + self.alpha )\n",
        "    self.b = np.mean(y_train) - (self.m * np.mean(X_train))\n",
        "\n",
        "\n",
        "    print(self.m , self.b)\n",
        "\n",
        "  def predict(self , X_test):\n",
        "    return self.m * X_test + self.b"
      ],
      "metadata": {
        "id": "vY4S-gro-tpL"
      },
      "execution_count": null,
      "outputs": []
    },
    {
      "cell_type": "markdown",
      "source": [
        "Fitting the value of X and y into the Ridge Regression ( Just changing the value of alpha )"
      ],
      "metadata": {
        "id": "AF37ngnB-z7q"
      }
    },
    {
      "cell_type": "code",
      "source": [
        "reg = RidgeRegression(alpha = 5 )\n",
        "reg.fit(X , y )"
      ],
      "metadata": {
        "id": "UZgerMGA-zU1"
      },
      "execution_count": null,
      "outputs": []
    },
    {
      "cell_type": "code",
      "source": [
        "reg = RidgeRegression(alpha = 10 )\n",
        "reg.fit(X , y )"
      ],
      "metadata": {
        "id": "CxPBPoyDBOBB"
      },
      "execution_count": null,
      "outputs": []
    },
    {
      "cell_type": "code",
      "source": [
        "reg = RidgeRegression(alpha = 50 )\n",
        "reg.fit(X , y )"
      ],
      "metadata": {
        "id": "L30c72MSBOg1"
      },
      "execution_count": null,
      "outputs": []
    },
    {
      "cell_type": "code",
      "source": [
        "reg = RidgeRegression(alpha = 100 )\n",
        "reg.fit(X , y )"
      ],
      "metadata": {
        "id": "axIXhXmNBP3z"
      },
      "execution_count": null,
      "outputs": []
    }
  ]
}
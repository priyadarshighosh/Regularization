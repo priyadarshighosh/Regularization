{
  "nbformat": 4,
  "nbformat_minor": 0,
  "metadata": {
    "colab": {
      "private_outputs": true,
      "provenance": []
    },
    "kernelspec": {
      "name": "python3",
      "display_name": "Python 3"
    },
    "language_info": {
      "name": "python"
    }
  },
  "cells": [
    {
      "cell_type": "markdown",
      "source": [
        "# Ridge Regression - Implementation from Scratch\n",
        "\n",
        "---\n"
      ],
      "metadata": {
        "id": "u93QB4H8gs0F"
      }
    },
    {
      "cell_type": "markdown",
      "source": [
        "IMPORTING DATA SCIENCE LIBRARIES"
      ],
      "metadata": {
        "id": "I2xjrloHcxJQ"
      }
    },
    {
      "cell_type": "code",
      "execution_count": null,
      "metadata": {
        "id": "JF9RMWnFZYq3"
      },
      "outputs": [],
      "source": [
        "import numpy as np\n",
        "import pandas as pd\n",
        "import matplotlib.pyplot as plt\n",
        "import seaborn as sns\n"
      ]
    },
    {
      "cell_type": "markdown",
      "source": [
        "IMPORT MACHINE LEARNING LIBRARIES AND CLASSES"
      ],
      "metadata": {
        "id": "-FDeOVL3M7rU"
      }
    },
    {
      "cell_type": "code",
      "source": [
        "from sklearn.model_selection import train_test_split               #for splitting the data into test and training data\n",
        "from sklearn.compose import ColumnTransformer                       #for transforming the columns\n",
        "from sklearn.impute import SimpleImputer                             #for imputing the missing values\n",
        "from sklearn.preprocessing import OneHotEncoder                      #one hot encoding\n",
        "from sklearn.preprocessing import MinMaxScaler                        #standard scaling\n",
        "\n",
        "from sklearn.datasets import load_diabetes\n",
        "\n",
        "from sklearn.datasets import make_regression\n",
        "\n",
        "import plotly.express as px\n",
        "import plotly.graph_objects as go\n",
        "\n",
        "\n",
        "from sklearn.model_selection import train_test_split\n",
        "from sklearn.metrics import accuracy_score                 # for accuracy score\n",
        "from sklearn.model_selection import cross_val_score        # for cross validation score\n",
        "\n",
        "from sklearn.linear_model import LinearRegression # Import the LinearRegression class\n",
        "from sklearn.metrics import mean_squared_error, r2_score    # to find out the error functions\n",
        "from sklearn.preprocessing import PolynomialFeatures , StandardScaler   # for the polunomial features\n",
        "\n",
        "from sklearn.pipeline import Pipeline\n",
        "from sklearn.linear_model import Ridge   # ridge Regression"
      ],
      "metadata": {
        "id": "Y208GDIXgEai"
      },
      "execution_count": null,
      "outputs": []
    },
    {
      "cell_type": "markdown",
      "source": [
        "# Loading and Information about the Dataset"
      ],
      "metadata": {
        "id": "XTPRT3iy9EuI"
      }
    },
    {
      "cell_type": "code",
      "source": [
        "X , y = make_regression (n_samples=100 , n_features=1 , n_informative = 1 , n_targets= 1 , noise =20 , random_state=13 )"
      ],
      "metadata": {
        "id": "PAXRZRNaJVKO"
      },
      "execution_count": null,
      "outputs": []
    },
    {
      "cell_type": "markdown",
      "source": [
        "Plotting the dataset"
      ],
      "metadata": {
        "id": "wdUUkCpV2IFI"
      }
    },
    {
      "cell_type": "code",
      "source": [
        "plt.scatter(X , y)\n",
        "plt.show()"
      ],
      "metadata": {
        "id": "ugvhR-FU2LIs"
      },
      "execution_count": null,
      "outputs": []
    },
    {
      "cell_type": "markdown",
      "source": [
        "# Calling the Linear Regression class and checking the value of co-efficient and intercept"
      ],
      "metadata": {
        "id": "TXpeuuZreukF"
      }
    },
    {
      "cell_type": "code",
      "source": [
        "reg = LinearRegression()\n",
        "reg.fit(X, y)   # fitting the data"
      ],
      "metadata": {
        "id": "1_eHQIdvexrE"
      },
      "execution_count": null,
      "outputs": []
    },
    {
      "cell_type": "code",
      "source": [
        "print (reg.coef_)\n",
        "print (reg.intercept_)"
      ],
      "metadata": {
        "id": "FzyBNnlRfbj4"
      },
      "execution_count": null,
      "outputs": []
    },
    {
      "cell_type": "markdown",
      "source": [
        "# Calling the Ridge Regression Class and checking the value of Co-efficient and intercept"
      ],
      "metadata": {
        "id": "ZIW_dHav2yY0"
      }
    },
    {
      "cell_type": "code",
      "source": [
        "rr1 = Ridge(alpha=5)\n",
        "rr1.fit(X, y )\n",
        "\n",
        "print (rr1.coef_)\n",
        "print (rr1.intercept_)"
      ],
      "metadata": {
        "id": "c7cE1_AP3Nuk"
      },
      "execution_count": null,
      "outputs": []
    },
    {
      "cell_type": "code",
      "source": [
        "rr2 = Ridge(alpha=10)\n",
        "rr2.fit(X, y )\n",
        "\n",
        "print (rr2.coef_)\n",
        "print (rr2.intercept_)"
      ],
      "metadata": {
        "id": "ahOPtQUy2ysw"
      },
      "execution_count": null,
      "outputs": []
    },
    {
      "cell_type": "code",
      "source": [
        "rr3 = Ridge(alpha=50)\n",
        "rr3.fit(X, y )\n",
        "\n",
        "print (rr3.coef_)\n",
        "print (rr3.intercept_)"
      ],
      "metadata": {
        "id": "1t7O57jA3LqY"
      },
      "execution_count": null,
      "outputs": []
    },
    {
      "cell_type": "code",
      "source": [
        "rr4 = Ridge(alpha=100)\n",
        "rr4.fit(X, y )\n",
        "\n",
        "print (rr4.coef_)\n",
        "print (rr4.intercept_)"
      ],
      "metadata": {
        "id": "3c082VC53O9D"
      },
      "execution_count": null,
      "outputs": []
    },
    {
      "cell_type": "markdown",
      "source": [
        "# Plotting for 4 different alpha values in Ridge Regression"
      ],
      "metadata": {
        "id": "aRJpF4AW3nJ1"
      }
    },
    {
      "cell_type": "code",
      "source": [
        "plt.plot(X , y , 'h')\n",
        "\n",
        "plt.plot(X , rr1.predict(X)  , 'r' , label='alpha = 5')\n",
        "plt.plot(X , rr2.predict(X)  , 'g' , label='alpha = 10')\n",
        "plt.plot(X , rr3.predict(X)  , 'y' , label='alpha = 50')\n",
        "plt.plot(X , rr4.predict(X)  , 'pink' , label='alpha = 100')\n",
        "\n",
        "plt.legend()\n",
        "plt.show()"
      ],
      "metadata": {
        "id": "fVGrTusc3-vB"
      },
      "execution_count": null,
      "outputs": []
    }
  ]
}